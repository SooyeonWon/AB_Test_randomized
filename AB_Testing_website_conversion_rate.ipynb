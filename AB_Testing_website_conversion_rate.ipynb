{
 "cells": [
  {
   "cell_type": "markdown",
   "metadata": {},
   "source": [
    "# Randomized A/B Testing \n",
    "## by Sooyeon Won"
   ]
  },
  {
   "cell_type": "markdown",
   "metadata": {},
   "source": [
    "## Table of Contents\n",
    "- [Introduction](#intro)\n",
    "- [Data Preparation](#preparation)\n",
    "- [Data Exploration: Part I - Probability Comparison](#probability)\n",
    "- [Data Exploration: Part II - A/B Test](#ab_test)\n",
    "- [Data Exploration: Part III - Regression Analysis](#regression)\n",
    "- [Conclusion](#conclusion)"
   ]
  },
  {
   "cell_type": "markdown",
   "metadata": {},
   "source": [
    "<a id='intro'></a>\n",
    "## Introduction\n",
    "\n",
    "> A/B tests are commonly performed in various industries. A/B testing is simple, but crucial for all businesses who want to test out their new scenarios. The results from A/B tests provide statistically significant results, simply by setting up a test and comparing the results against the control. <br><br>\n",
    "In this analysis, I investigate the data obtained from a company in e-commerce industry, and explain the results of the A/B test run by an e-commerce website. This company has developed a new design of its web page, in order to try and increase the number of users who \"convert\". The converted users mean the users who pay for the company's products. \n",
    "Based on the statistical facts and the findings from A/B Testing, this analysis will provide recommendations whether the company should implement the new page, keep the old page, or perhaps run the experiment longer to make its decision.\n",
    "\n"
   ]
  },
  {
   "cell_type": "markdown",
   "metadata": {},
   "source": [
    "<a id='preparation'></a>\n",
    "## Data Preparation"
   ]
  },
  {
   "cell_type": "code",
   "execution_count": 1,
   "metadata": {},
   "outputs": [],
   "source": [
    "# Start the analysis with importing relevant libraries\n",
    "import pandas as pd\n",
    "import numpy as np\n",
    "import random\n",
    "import matplotlib.pyplot as plt\n",
    "%matplotlib inline\n",
    "\n",
    "random.seed(42)"
   ]
  },
  {
   "cell_type": "code",
   "execution_count": 2,
   "metadata": {
    "scrolled": false
   },
   "outputs": [
    {
     "data": {
      "text/html": [
       "<div>\n",
       "<style scoped>\n",
       "    .dataframe tbody tr th:only-of-type {\n",
       "        vertical-align: middle;\n",
       "    }\n",
       "\n",
       "    .dataframe tbody tr th {\n",
       "        vertical-align: top;\n",
       "    }\n",
       "\n",
       "    .dataframe thead th {\n",
       "        text-align: right;\n",
       "    }\n",
       "</style>\n",
       "<table border=\"1\" class=\"dataframe\">\n",
       "  <thead>\n",
       "    <tr style=\"text-align: right;\">\n",
       "      <th></th>\n",
       "      <th>user_id</th>\n",
       "      <th>timestamp</th>\n",
       "      <th>group</th>\n",
       "      <th>landing_page</th>\n",
       "      <th>converted</th>\n",
       "    </tr>\n",
       "  </thead>\n",
       "  <tbody>\n",
       "    <tr>\n",
       "      <th>0</th>\n",
       "      <td>851104</td>\n",
       "      <td>2017-01-21 22:11:48.556739</td>\n",
       "      <td>control</td>\n",
       "      <td>old_page</td>\n",
       "      <td>0</td>\n",
       "    </tr>\n",
       "    <tr>\n",
       "      <th>1</th>\n",
       "      <td>804228</td>\n",
       "      <td>2017-01-12 08:01:45.159739</td>\n",
       "      <td>control</td>\n",
       "      <td>old_page</td>\n",
       "      <td>0</td>\n",
       "    </tr>\n",
       "    <tr>\n",
       "      <th>2</th>\n",
       "      <td>661590</td>\n",
       "      <td>2017-01-11 16:55:06.154213</td>\n",
       "      <td>treatment</td>\n",
       "      <td>new_page</td>\n",
       "      <td>0</td>\n",
       "    </tr>\n",
       "    <tr>\n",
       "      <th>3</th>\n",
       "      <td>853541</td>\n",
       "      <td>2017-01-08 18:28:03.143765</td>\n",
       "      <td>treatment</td>\n",
       "      <td>new_page</td>\n",
       "      <td>0</td>\n",
       "    </tr>\n",
       "    <tr>\n",
       "      <th>4</th>\n",
       "      <td>864975</td>\n",
       "      <td>2017-01-21 01:52:26.210827</td>\n",
       "      <td>control</td>\n",
       "      <td>old_page</td>\n",
       "      <td>1</td>\n",
       "    </tr>\n",
       "  </tbody>\n",
       "</table>\n",
       "</div>"
      ],
      "text/plain": [
       "   user_id                   timestamp      group landing_page  converted\n",
       "0   851104  2017-01-21 22:11:48.556739    control     old_page          0\n",
       "1   804228  2017-01-12 08:01:45.159739    control     old_page          0\n",
       "2   661590  2017-01-11 16:55:06.154213  treatment     new_page          0\n",
       "3   853541  2017-01-08 18:28:03.143765  treatment     new_page          0\n",
       "4   864975  2017-01-21 01:52:26.210827    control     old_page          1"
      ]
     },
     "execution_count": 2,
     "metadata": {},
     "output_type": "execute_result"
    }
   ],
   "source": [
    "ab_df = pd.read_csv('ab_data.csv') # Read the csv file and store it as ab_df\n",
    "ab_df.head() # Take a look at few rows in the data"
   ]
  },
  {
   "cell_type": "code",
   "execution_count": 3,
   "metadata": {},
   "outputs": [
    {
     "name": "stdout",
     "output_type": "stream",
     "text": [
      "<class 'pandas.core.frame.DataFrame'>\n",
      "RangeIndex: 294478 entries, 0 to 294477\n",
      "Data columns (total 5 columns):\n",
      " #   Column        Non-Null Count   Dtype \n",
      "---  ------        --------------   ----- \n",
      " 0   user_id       294478 non-null  int64 \n",
      " 1   timestamp     294478 non-null  object\n",
      " 2   group         294478 non-null  object\n",
      " 3   landing_page  294478 non-null  object\n",
      " 4   converted     294478 non-null  int64 \n",
      "dtypes: int64(2), object(3)\n",
      "memory usage: 11.2+ MB\n"
     ]
    }
   ],
   "source": [
    "ab_df.info()"
   ]
  },
  {
   "cell_type": "code",
   "execution_count": 4,
   "metadata": {
    "scrolled": false
   },
   "outputs": [
    {
     "data": {
      "text/plain": [
       "user_id         0\n",
       "timestamp       0\n",
       "group           0\n",
       "landing_page    0\n",
       "converted       0\n",
       "dtype: int64"
      ]
     },
     "execution_count": 4,
     "metadata": {},
     "output_type": "execute_result"
    }
   ],
   "source": [
    "ab_df.isnull().sum() # Check missing values in each column"
   ]
  },
  {
   "cell_type": "markdown",
   "metadata": {},
   "source": [
    "> - Almost 300,000 datapoints are collected and all features do not contain missing values. \n",
    "> - The datatype of the following columns should be changed.\n",
    "    1. \"user_id\" is not a numeric variable. It should be an \"object\". \n",
    "    2. \"timestamp\" should have the datatype of \"datetime\". \n",
    "    3. \"converted\" is a categorical variable. It should be an \"object\", but for the convienece of computation, I kept the original datatype.  "
   ]
  },
  {
   "cell_type": "code",
   "execution_count": 5,
   "metadata": {},
   "outputs": [],
   "source": [
    "ab_df['user_id']=ab_df['user_id'].astype(str)\n",
    "ab_df['timestamp'] = pd.to_datetime(ab_df['timestamp'])"
   ]
  },
  {
   "cell_type": "code",
   "execution_count": 6,
   "metadata": {
    "scrolled": true
   },
   "outputs": [
    {
     "name": "stdout",
     "output_type": "stream",
     "text": [
      "The earliest date of datapoints:  2017-01-02 13:42:05.378582\n",
      "The latest date of datapoints:  2017-01-24 13:41:54.460509\n",
      "Total numbere of datapoints:  294478\n"
     ]
    }
   ],
   "source": [
    "print('The earliest date of datapoints: ', ab_df['timestamp'].min())\n",
    "print('The latest date of datapoints: ', ab_df['timestamp'].max())\n",
    "print('Total numbere of datapoints: ', ab_df.shape[0])\n",
    "# 294,478 datapoints are gathered from 2017-01-02 to 2017-01-24."
   ]
  },
  {
   "cell_type": "markdown",
   "metadata": {},
   "source": [
    "<a id='probability'></a>\n",
    "## Data Exploration \n",
    "### Part I - Probability"
   ]
  },
  {
   "cell_type": "markdown",
   "metadata": {},
   "source": [
    "#### 1. The number of unique users"
   ]
  },
  {
   "cell_type": "code",
   "execution_count": 7,
   "metadata": {},
   "outputs": [
    {
     "name": "stdout",
     "output_type": "stream",
     "text": [
      "The dataset has 290584 unique users.\n"
     ]
    }
   ],
   "source": [
    "unique_users = len(ab_df.user_id.unique())\n",
    "print ('The dataset has', unique_users, 'unique users.') "
   ]
  },
  {
   "cell_type": "markdown",
   "metadata": {
    "collapsed": true
   },
   "source": [
    "#### 2. The proportion of users converted"
   ]
  },
  {
   "cell_type": "code",
   "execution_count": 8,
   "metadata": {},
   "outputs": [
    {
     "name": "stdout",
     "output_type": "stream",
     "text": [
      "The percentage of users coverted in the dataset is  11.97 %.\n"
     ]
    }
   ],
   "source": [
    "conversion_all = ab_df.converted.mean()*100\n",
    "print ('The percentage of users coverted in the dataset is ', '{:.2f}'.format(conversion_all), '%.' )"
   ]
  },
  {
   "cell_type": "markdown",
   "metadata": {
    "collapsed": true
   },
   "source": [
    "#### 3. The number of user-ids the `new_page` and `treatment` don't match up"
   ]
  },
  {
   "cell_type": "code",
   "execution_count": 9,
   "metadata": {},
   "outputs": [
    {
     "data": {
      "text/plain": [
       "treatment    147276\n",
       "control      147202\n",
       "Name: group, dtype: int64"
      ]
     },
     "execution_count": 9,
     "metadata": {},
     "output_type": "execute_result"
    }
   ],
   "source": [
    "ab_df.group.value_counts()"
   ]
  },
  {
   "cell_type": "code",
   "execution_count": 10,
   "metadata": {},
   "outputs": [
    {
     "data": {
      "text/plain": [
       "new_page    147239\n",
       "old_page    147239\n",
       "Name: landing_page, dtype: int64"
      ]
     },
     "execution_count": 10,
     "metadata": {},
     "output_type": "execute_result"
    }
   ],
   "source": [
    "ab_df.landing_page.value_counts()"
   ]
  },
  {
   "cell_type": "markdown",
   "metadata": {},
   "source": [
    "> The new/old design of webpage are exclusively landed to the users in the treatment/control group, respectively. However, the number of datapoints in treatment/control group in the dataset does not match up with the number of datapoints in 'new_page','old_page', vice versa. So, I check the total number of unmatched datapoints in the dataset. "
   ]
  },
  {
   "cell_type": "code",
   "execution_count": 11,
   "metadata": {},
   "outputs": [
    {
     "name": "stdout",
     "output_type": "stream",
     "text": [
      "There are 1965 unique users in treatment group matched with old design page.\n",
      "There are 1928 unique users in control group matched with new design page.\n",
      "In total, 3893 unique users are unmatched.\n"
     ]
    }
   ],
   "source": [
    "old_treatment = ab_df.query('group == \"treatment\" and landing_page == \"old_page\"').nunique()\n",
    "new_control= ab_df.query('group == \"control\" and landing_page == \"new_page\"').nunique()\n",
    "unmatched =  old_treatment + new_control\n",
    "print('There are', old_treatment[0], 'unique users in treatment group matched with old design page.')\n",
    "print('There are', new_control[0], 'unique users in control group matched with new design page.')\n",
    "print('In total,', unmatched[0] , 'unique users are unmatched.')"
   ]
  },
  {
   "cell_type": "markdown",
   "metadata": {},
   "source": [
    "> There are some datapoints where **treatment** is not aligned with **new_page**, or **control** is not aligned with **old_page**. Without additional information, we can not be sure whether they received the new or old page, such rows are dropped."
   ]
  },
  {
   "cell_type": "code",
   "execution_count": 12,
   "metadata": {},
   "outputs": [],
   "source": [
    "indexNames = ab_df[ (ab_df.group == 'treatment')!=(ab_df.landing_page == 'new_page')].index\n",
    "ab_mod=ab_df.drop(indexNames) # The modified dataset is renamed as ab_mod."
   ]
  },
  {
   "cell_type": "code",
   "execution_count": 13,
   "metadata": {},
   "outputs": [
    {
     "data": {
      "text/plain": [
       "0"
      ]
     },
     "execution_count": 13,
     "metadata": {},
     "output_type": "execute_result"
    }
   ],
   "source": [
    "# Double Check all of the correct rows were removed. \n",
    "ab_mod[((ab_mod['group'] == 'treatment') == (ab_mod['landing_page'] == 'new_page')) == False].shape[0]"
   ]
  },
  {
   "cell_type": "markdown",
   "metadata": {},
   "source": [
    "#### 4. The number of unique users in the modified dataset"
   ]
  },
  {
   "cell_type": "code",
   "execution_count": 14,
   "metadata": {},
   "outputs": [
    {
     "name": "stdout",
     "output_type": "stream",
     "text": [
      "After the unmatched datapoints are dropped, there are 290585 user-ids in the dataset.\n"
     ]
    }
   ],
   "source": [
    "user_num=ab_mod.shape\n",
    "print ('After the unmatched datapoints are dropped, there are', user_num[0], 'user-ids in the dataset.') "
   ]
  },
  {
   "cell_type": "code",
   "execution_count": 15,
   "metadata": {
    "scrolled": true
   },
   "outputs": [
    {
     "name": "stdout",
     "output_type": "stream",
     "text": [
      "Now, we have 290584 number of unique users.\n"
     ]
    }
   ],
   "source": [
    "user_unique=ab_mod.user_id.nunique()\n",
    "print ('Now, we have', unique_users, 'number of unique users.') "
   ]
  },
  {
   "cell_type": "code",
   "execution_count": 16,
   "metadata": {
    "scrolled": true
   },
   "outputs": [
    {
     "data": {
      "text/plain": [
       "1"
      ]
     },
     "execution_count": 16,
     "metadata": {},
     "output_type": "execute_result"
    }
   ],
   "source": [
    "sum(ab_mod.user_id.duplicated()) # This means, there is one repeated user_id in the modified dataset."
   ]
  },
  {
   "cell_type": "code",
   "execution_count": 17,
   "metadata": {},
   "outputs": [
    {
     "name": "stdout",
     "output_type": "stream",
     "text": [
      "     user_id                  timestamp      group landing_page  converted\n",
      "2893  773192 2017-01-14 02:55:59.590927  treatment     new_page          0\n"
     ]
    }
   ],
   "source": [
    "# Which user-id is duplicated? \n",
    "duplicated_row = ab_mod[ab_mod.duplicated(['user_id'])] \n",
    "print(duplicated_row)"
   ]
  },
  {
   "cell_type": "code",
   "execution_count": 18,
   "metadata": {
    "scrolled": true
   },
   "outputs": [
    {
     "data": {
      "text/html": [
       "<div>\n",
       "<style scoped>\n",
       "    .dataframe tbody tr th:only-of-type {\n",
       "        vertical-align: middle;\n",
       "    }\n",
       "\n",
       "    .dataframe tbody tr th {\n",
       "        vertical-align: top;\n",
       "    }\n",
       "\n",
       "    .dataframe thead th {\n",
       "        text-align: right;\n",
       "    }\n",
       "</style>\n",
       "<table border=\"1\" class=\"dataframe\">\n",
       "  <thead>\n",
       "    <tr style=\"text-align: right;\">\n",
       "      <th></th>\n",
       "      <th>user_id</th>\n",
       "      <th>timestamp</th>\n",
       "      <th>group</th>\n",
       "      <th>landing_page</th>\n",
       "      <th>converted</th>\n",
       "    </tr>\n",
       "  </thead>\n",
       "  <tbody>\n",
       "    <tr>\n",
       "      <th>1899</th>\n",
       "      <td>773192</td>\n",
       "      <td>2017-01-09 05:37:58.781806</td>\n",
       "      <td>treatment</td>\n",
       "      <td>new_page</td>\n",
       "      <td>0</td>\n",
       "    </tr>\n",
       "    <tr>\n",
       "      <th>2893</th>\n",
       "      <td>773192</td>\n",
       "      <td>2017-01-14 02:55:59.590927</td>\n",
       "      <td>treatment</td>\n",
       "      <td>new_page</td>\n",
       "      <td>0</td>\n",
       "    </tr>\n",
       "  </tbody>\n",
       "</table>\n",
       "</div>"
      ],
      "text/plain": [
       "     user_id                  timestamp      group landing_page  converted\n",
       "1899  773192 2017-01-09 05:37:58.781806  treatment     new_page          0\n",
       "2893  773192 2017-01-14 02:55:59.590927  treatment     new_page          0"
      ]
     },
     "execution_count": 18,
     "metadata": {},
     "output_type": "execute_result"
    }
   ],
   "source": [
    "ab_df.query('user_id == \"773192\"')"
   ]
  },
  {
   "cell_type": "markdown",
   "metadata": {},
   "source": [
    "> The repeated user_id is '773192'. The user visited the website twice during the experiment period. <br> \n",
    "Thus, the latest datapoint is dropped."
   ]
  },
  {
   "cell_type": "code",
   "execution_count": 19,
   "metadata": {},
   "outputs": [],
   "source": [
    "ab_mod.drop_duplicates(subset=['user_id'], inplace = True)"
   ]
  },
  {
   "cell_type": "code",
   "execution_count": 20,
   "metadata": {
    "scrolled": true
   },
   "outputs": [
    {
     "data": {
      "text/html": [
       "<div>\n",
       "<style scoped>\n",
       "    .dataframe tbody tr th:only-of-type {\n",
       "        vertical-align: middle;\n",
       "    }\n",
       "\n",
       "    .dataframe tbody tr th {\n",
       "        vertical-align: top;\n",
       "    }\n",
       "\n",
       "    .dataframe thead th {\n",
       "        text-align: right;\n",
       "    }\n",
       "</style>\n",
       "<table border=\"1\" class=\"dataframe\">\n",
       "  <thead>\n",
       "    <tr style=\"text-align: right;\">\n",
       "      <th></th>\n",
       "      <th>user_id</th>\n",
       "      <th>timestamp</th>\n",
       "      <th>group</th>\n",
       "      <th>landing_page</th>\n",
       "      <th>converted</th>\n",
       "    </tr>\n",
       "  </thead>\n",
       "  <tbody>\n",
       "    <tr>\n",
       "      <th>1899</th>\n",
       "      <td>773192</td>\n",
       "      <td>2017-01-09 05:37:58.781806</td>\n",
       "      <td>treatment</td>\n",
       "      <td>new_page</td>\n",
       "      <td>0</td>\n",
       "    </tr>\n",
       "  </tbody>\n",
       "</table>\n",
       "</div>"
      ],
      "text/plain": [
       "     user_id                  timestamp      group landing_page  converted\n",
       "1899  773192 2017-01-09 05:37:58.781806  treatment     new_page          0"
      ]
     },
     "execution_count": 20,
     "metadata": {},
     "output_type": "execute_result"
    }
   ],
   "source": [
    "ab_mod.query('user_id == \"773192\"') # Recheck whether the duplicated user-id is removed."
   ]
  },
  {
   "cell_type": "markdown",
   "metadata": {},
   "source": [
    "> After unmatched samples and duplicates are dropped, we have 290,584 unique users in the modified dataset."
   ]
  },
  {
   "cell_type": "markdown",
   "metadata": {},
   "source": [
    "#### 5. Randomly selected treatment and control units \n",
    "\n",
    "> The treatment and control units are completely randomly chosen. In this part, I compare other characteristics of the groups. Based on the timestape information, I plot the number of unique users in each weekday, day, and hour. As the following plots show, the patterns of web page visits are very similar in both units. This implies that the only difference between the two groups are nothing but the landing page. "
   ]
  },
  {
   "cell_type": "code",
   "execution_count": 21,
   "metadata": {},
   "outputs": [],
   "source": [
    "import datetime as dt\n",
    "import seaborn as sns\n",
    "ab_copy = ab_mod.copy()\n",
    "ab_copy['weekday'] = ab_copy.timestamp.dt.day_name()\n",
    "ab_copy['hour'] = ab_copy.timestamp.dt.hour\n",
    "ab_copy['day'] = ab_copy.timestamp.dt.day"
   ]
  },
  {
   "cell_type": "code",
   "execution_count": 22,
   "metadata": {
    "scrolled": true
   },
   "outputs": [
    {
     "data": {
      "image/png": "[encoded data removed]",
      "text/plain": [
       "<Figure size 728x360 with 2 Axes>"
      ]
     },
     "metadata": {
      "needs_background": "light"
     },
     "output_type": "display_data"
    }
   ],
   "source": [
    "g = sns.FacetGrid(data = ab_copy, col='group', height=5)\n",
    "weekday_ord=['Monday','Tuesday','Wednesday','Thursday','Friday','Saturday','Sunday']\n",
    "g = g.map(sns.countplot, \"weekday\", order = weekday_ord );\n",
    "g.add_legend()\n",
    "plt.show()"
   ]
  },
  {
   "cell_type": "code",
   "execution_count": 23,
   "metadata": {
    "scrolled": false
   },
   "outputs": [
    {
     "name": "stderr",
     "output_type": "stream",
     "text": [
      "C:\\Users\\wonso\\anaconda3\\lib\\site-packages\\seaborn\\axisgrid.py:728: UserWarning: Using the countplot function without specifying `order` is likely to produce an incorrect plot.\n",
      "  warnings.warn(warning)\n"
     ]
    },
    {
     "data": {
      "image/png": "[encoded data removed]",
      "text/plain": [
       "<Figure size 728x360 with 2 Axes>"
      ]
     },
     "metadata": {
      "needs_background": "light"
     },
     "output_type": "display_data"
    }
   ],
   "source": [
    "g = sns.FacetGrid(data = ab_copy, col='group', height=5)\n",
    "g = g.map(sns.countplot, \"day\");\n",
    "g.add_legend()\n",
    "plt.show()"
   ]
  },
  {
   "cell_type": "code",
   "execution_count": 24,
   "metadata": {},
   "outputs": [
    {
     "data": {
      "image/png": "[encoded data removed]",
      "text/plain": [
       "<Figure size 728x360 with 2 Axes>"
      ]
     },
     "metadata": {
      "needs_background": "light"
     },
     "output_type": "display_data"
    }
   ],
   "source": [
    "g = sns.FacetGrid(data = ab_copy, col='group', height=5)\n",
    "g = g.map(sns.countplot, \"hour\");\n",
    "g.add_legend()\n",
    "plt.show()"
   ]
  },
  {
   "cell_type": "markdown",
   "metadata": {},
   "source": [
    "#### 6. The probability of an individual converting \n",
    "\n",
    "##### 6-1. Overall conversion rate (regardless of landing pages)"
   ]
  },
  {
   "cell_type": "code",
   "execution_count": 25,
   "metadata": {},
   "outputs": [
    {
     "name": "stdout",
     "output_type": "stream",
     "text": [
      "The proportion of users coverted in the dataset is 0.1196 .\n"
     ]
    }
   ],
   "source": [
    "conversion_all = ab_mod.converted.mean()\n",
    "print ('The proportion of users coverted in the dataset is', '{:.4f}'.format(conversion_all), '.' )"
   ]
  },
  {
   "cell_type": "markdown",
   "metadata": {},
   "source": [
    "##### 6-2. The conversion rate given that an individual was in the `control` group"
   ]
  },
  {
   "cell_type": "code",
   "execution_count": 26,
   "metadata": {
    "scrolled": true
   },
   "outputs": [
    {
     "name": "stdout",
     "output_type": "stream",
     "text": [
      "The user conversion rate, given that an individual was in control group is 0.1204 .\n"
     ]
    }
   ],
   "source": [
    "df_control = ab_mod.query('group == \"control\"')\n",
    "conversion_control = df_control.converted.mean()\n",
    "print ('The user conversion rate, given that an individual was in control group is', '{:.4f}'.format(conversion_control), '.' )"
   ]
  },
  {
   "cell_type": "markdown",
   "metadata": {},
   "source": [
    "##### 6-3. The conversion probability given that an individual was in the `treatment` group"
   ]
  },
  {
   "cell_type": "code",
   "execution_count": 27,
   "metadata": {},
   "outputs": [
    {
     "name": "stdout",
     "output_type": "stream",
     "text": [
      "The user conversion rate, given that an individual was in treatment group is 0.1188 .\n"
     ]
    }
   ],
   "source": [
    "df_treatment = ab_mod.query('group == \"treatment\"')\n",
    "conversion_treatment = df_treatment.converted.mean()\n",
    "print ('The user conversion rate, given that an individual was in treatment group is', '{:.4f}'.format(conversion_treatment), '.' )"
   ]
  },
  {
   "cell_type": "markdown",
   "metadata": {},
   "source": [
    "##### 6-4. The probability that an individual received the new page"
   ]
  },
  {
   "cell_type": "code",
   "execution_count": 28,
   "metadata": {},
   "outputs": [
    {
     "name": "stdout",
     "output_type": "stream",
     "text": [
      "The probability of receiving the new page for an individual is 0.5001 .\n"
     ]
    }
   ],
   "source": [
    "num_newpage = ab_mod.query('landing_page == \"new_page\"')['user_id'].count()\n",
    "num_all = ab_mod.user_id.count()\n",
    "print ('The probability of receiving the new page for an individual is', '{:.4f}'.format(num_newpage/num_all), '.' )"
   ]
  },
  {
   "cell_type": "markdown",
   "metadata": {},
   "source": [
    "> **Findings**: The overall conversion rate is 11.96%. The conversion rate given control, treatment group in the dataset is 12.04%, 11.88%, respectively. The control group showed a higher conversion rate by 0.16%, comparing to the treatment group. The average conversion rates in each group does not provide enough evidence that the new treatment page lead to more conversions. Also, the difference is very small. The difference could be occurred simply due to sampling error. To make sure the difference is statistcally significant, I performed several statistcal testings. Additionally, the result from _6-4_ indicates that the size of both groups are well-balanced. "
   ]
  },
  {
   "cell_type": "markdown",
   "metadata": {},
   "source": [
    "<a id='ab_test'></a>\n",
    "### Part II - A/B Test\n",
    "\n",
    "> To perform A/B Testing, deciding the proper duration of test is one of the crucial considerations. Because each event is recorded with its timestamp, we could run hypothesis tests continuously as each datapoint is collected. It would be \"technically\" possible that we stop as soon as one page is considered significantly better than another. Whether the test needs to happen consistently for a certain amount of time or How long a company run the test to render a decision that neither page is better than another could be hugh issues. Test duration is generally one of difficult parts associated with A/B tests. <br><br>\n",
    "For now, I simply considered all the provided data **only**, to drive the decision. <br>\n",
    "To begin with, I assume that the old page is better unless the new page proves to be definitely better at a Type I error rate of 5%. <br>\n",
    "The null($H_0$) and alternative($H_1$) hypotheses are denoted as follows. <br> **$p_{old}$** and **$p_{new}$** mean the converted rates for the old and new pages, respectively."
   ]
  },
  {
   "cell_type": "markdown",
   "metadata": {},
   "source": [
    "$$H_0: p_{old} - p_{new}  \\geq 0$$\n",
    "\n",
    "\n",
    "$$H_1: p_{old} - p_{new} < 0$$\n",
    "\n"
   ]
  },
  {
   "cell_type": "markdown",
   "metadata": {},
   "source": [
    "> In words, the null($H_0$) hypothesis indicates that the conversion rate for old pages is better than or \"at least\" equal to the conversion rate for new pages. The alternative($H_1$) hypothesis, on the other hand, indicates the conversion rate for new pages is better than that the converted rate for the old pages. "
   ]
  },
  {
   "cell_type": "markdown",
   "metadata": {},
   "source": [
    "> I supposed that under the null hypothesis, $p_{new}$ and $p_{old}$ both have \"true\" success rates equal to the **converted** success rate regardless of page. (i.e. $p_{new}$ =  $p_{old}$). Since users are randomly assigned to the treatment and control groups, this assumption makes sense. Likewise, I assumed that they are equal to the **converted** rate in my dataset regardless of the page. <br><br>\n",
    "Then using a sample size for each page equal to the ones in my dataset, I performed the sampling distribution for the difference in **converted** rate between the two pages over 10,000 iterations of calculating an estimate from the null. The following cells below provide the steps of this simulation.  "
   ]
  },
  {
   "cell_type": "markdown",
   "metadata": {},
   "source": [
    "#### 1. **Convert rate** for $p_{new}$ and $p_{old}$ under the null hypothesis"
   ]
  },
  {
   "cell_type": "code",
   "execution_count": 29,
   "metadata": {},
   "outputs": [
    {
     "name": "stdout",
     "output_type": "stream",
     "text": [
      "The converted rate for new landing page is 0.1196 .\n",
      "The converted rate for old landing page is 0.1196 .\n"
     ]
    }
   ],
   "source": [
    "p_new = ab_mod.converted.mean()\n",
    "p_old = ab_mod.converted.mean() \n",
    "print ('The converted rate for new landing page is', '{:.4f}'.format(p_new), '.' )\n",
    "print ('The converted rate for old landing page is', '{:.4f}'.format(p_old), '.' )"
   ]
  },
  {
   "cell_type": "markdown",
   "metadata": {},
   "source": [
    "#### 2. **Sample size** for new_page($n_{new}$),  old_page($n_{old}$)"
   ]
  },
  {
   "cell_type": "code",
   "execution_count": 30,
   "metadata": {},
   "outputs": [
    {
     "data": {
      "text/plain": [
       "new_page    145310\n",
       "old_page    145274\n",
       "Name: landing_page, dtype: int64"
      ]
     },
     "execution_count": 30,
     "metadata": {},
     "output_type": "execute_result"
    }
   ],
   "source": [
    "ab_mod.landing_page.value_counts()"
   ]
  },
  {
   "cell_type": "code",
   "execution_count": 31,
   "metadata": {},
   "outputs": [],
   "source": [
    "n_new = ab_mod.landing_page.value_counts()[0] # Sample size for new_page\n",
    "n_old = ab_mod.landing_page.value_counts()[1] # Sample size for old_page"
   ]
  },
  {
   "cell_type": "markdown",
   "metadata": {},
   "source": [
    "> Under the null hypothesis, I assumed that the conversion rate for the treatment and control is equivalent to the overall conversion rate in our actual data. Thus, the conversion rate for both $p_{new}$ and $p_{old}$  is equal to 0.1196. \n",
    "Also, I simulated data for each group based on binomial distribution with the same size of the treatment and control groups in the dataset."
   ]
  },
  {
   "cell_type": "markdown",
   "metadata": {},
   "source": [
    "#### 3. **Simulation** of $n_{new}$ times transactions with a convert rate of $p_{new}$ under the null.  \n",
    "\n",
    "> These $n_{new}$ 1's (which mean \"converted\") and 0's (which mean \"not converted\") are stored in  \"new_page_converted\". Same procedure is conducted for old_page."
   ]
  },
  {
   "cell_type": "code",
   "execution_count": 32,
   "metadata": {},
   "outputs": [],
   "source": [
    "new_page_converted = np.random.binomial(1, p_new, n_new) \n",
    "old_page_converted = np.random.binomial(1, p_old, n_old) "
   ]
  },
  {
   "cell_type": "markdown",
   "metadata": {},
   "source": [
    "#### 4. **Difference** of the simulated values (i.e. $p_{new}$ - $p_{old}$ ) "
   ]
  },
  {
   "cell_type": "code",
   "execution_count": 33,
   "metadata": {},
   "outputs": [
    {
     "name": "stdout",
     "output_type": "stream",
     "text": [
      "The simulated difference is :  -0.002032281748372708\n"
     ]
    }
   ],
   "source": [
    "simulation_diff = new_page_converted.mean() - old_page_converted.mean()\n",
    "\n",
    "print ('The simulated difference is : ', simulation_diff)"
   ]
  },
  {
   "cell_type": "markdown",
   "metadata": {},
   "source": [
    "> The difference is very trivial and also close to zero. The difference could be significant, but also occured due to sampling errors. Therefore, I simulate 10,000 values of the difference and plot its distribution. "
   ]
  },
  {
   "cell_type": "markdown",
   "metadata": {},
   "source": [
    "#### 5. **Simulation** of 10,000 times the difference values ($p_{new}$ - $p_{old}$) \n",
    "\n",
    "> The simulated values are stored in a numpy array called **p_diffs**."
   ]
  },
  {
   "cell_type": "code",
   "execution_count": 34,
   "metadata": {},
   "outputs": [],
   "source": [
    "p_diffs = []\n",
    "\n",
    "for _ in range(10000):\n",
    "    new_page_converted = np.random.binomial(1, p_new, n_new) \n",
    "    old_page_converted = np.random.binomial(1, p_old, n_old) \n",
    "    differences = new_page_converted.mean() - old_page_converted.mean()\n",
    "    p_diffs.append(differences)\n"
   ]
  },
  {
   "cell_type": "code",
   "execution_count": 35,
   "metadata": {},
   "outputs": [
    {
     "data": {
      "text/plain": [
       "array([ 0.00118842, -0.00098636, -0.00200508, ..., -0.00075237,\n",
       "        0.00054166,  0.00091335])"
      ]
     },
     "execution_count": 35,
     "metadata": {},
     "output_type": "execute_result"
    }
   ],
   "source": [
    "p_diffs = np.array(p_diffs) # The list format is changed to an array format.\n",
    "p_diffs"
   ]
  },
  {
   "cell_type": "markdown",
   "metadata": {},
   "source": [
    "#### 6. Distribution of p_diffs\n",
    "\n",
    "> As Central Limit Theorem says, in a large sample size, the sample means follow a normal distribution. As expected, the p_diffs plot shows the bell-shaped normal distribution. Additionally, I added a blue line, indicating the actual difference of our sample statistics."
   ]
  },
  {
   "cell_type": "code",
   "execution_count": 36,
   "metadata": {},
   "outputs": [
    {
     "name": "stdout",
     "output_type": "stream",
     "text": [
      "Actual difference (sample statistic):  -0.0015782389853555567\n"
     ]
    }
   ],
   "source": [
    "actual_diff = conversion_treatment - conversion_control \n",
    "print('Actual difference (sample statistic): ', actual_diff)"
   ]
  },
  {
   "cell_type": "code",
   "execution_count": 37,
   "metadata": {
    "scrolled": true
   },
   "outputs": [
    {
     "data": {
      "image/png": "[encoded data removed]",
      "text/plain": [
       "<Figure size 432x288 with 1 Axes>"
      ]
     },
     "metadata": {
      "needs_background": "light"
     },
     "output_type": "display_data"
    }
   ],
   "source": [
    "plt.hist(p_diffs, alpha = 0.5);\n",
    "plt.axvline(actual_diff, color='blue', linewidth=2);"
   ]
  },
  {
   "cell_type": "markdown",
   "metadata": {},
   "source": [
    "#### 7. The proportion of the p_diffs"
   ]
  },
  {
   "cell_type": "code",
   "execution_count": 38,
   "metadata": {},
   "outputs": [
    {
     "name": "stdout",
     "output_type": "stream",
     "text": [
      "The proportion of the p_diffs larger than the actual dfference (p-value) :  0.9092\n"
     ]
    }
   ],
   "source": [
    "p_value = ( p_diffs > actual_diff ).mean()\n",
    "print('The proportion of the p_diffs larger than the actual dfference (p-value) : ', p_value)"
   ]
  },
  {
   "cell_type": "markdown",
   "metadata": {},
   "source": [
    "> The computed value is called the _p-value_. The p-value is the likelihood that the actual difference between the difference values ($p_{new}$ - $p_{old}$) is zero. We make a decision whether the null hypothesis can be rejected, comparing the p-value with Type 1 error rate of 5%. If the p-value is smaller than the Type 1 error rate, we can reject the null hypothesis. Otherwise, the null fails to be rejected.<br><br> The calcuated p-value is obviously greater than the designated Type 1 error rate: 0.05. Thus, we fail to reject the null hypothesis. In other words, there is no enough evidence that the conversion rate of new page group is larger than that of old page group. \n",
    "\n",
    "> Also, these results can be achieved using a built-in library. The built-in is convenient in terms of coding. The above portions are a walkthrough of the ideas that are critical to correctly thinking about statistical significance."
   ]
  },
  {
   "cell_type": "code",
   "execution_count": 39,
   "metadata": {},
   "outputs": [],
   "source": [
    "import statsmodels.api as sm\n",
    "from statsmodels.stats.proportion import proportions_ztest\n",
    "\n",
    "# The number of conversions for each page & The number of individuals who received each page\n",
    "convert_old = ab_mod.query(\"landing_page == 'old_page' and converted == 1\").shape[0]\n",
    "convert_new = ab_mod.query(\"landing_page == 'new_page' and converted == 1\").shape[0]\n",
    "# `n_old` and `n_new` refer the the number of rows associated with the old page and new pages, respectively.\n",
    "n_old = ab_mod.query(\"landing_page == 'old_page'\").shape[0]\n",
    "n_new = ab_mod.query(\"landing_page == 'new_page'\").shape[0]"
   ]
  },
  {
   "cell_type": "code",
   "execution_count": 40,
   "metadata": {},
   "outputs": [
    {
     "name": "stdout",
     "output_type": "stream",
     "text": [
      "z-score: 1.3109\n",
      "p-value: 0.9051\n"
     ]
    }
   ],
   "source": [
    "# use `stats.proportions_ztest` to compute the test statistic and p-value.\n",
    "stat, pval = proportions_ztest([convert_old, convert_new], [n_old, n_new],  alternative='smaller')\n",
    "\n",
    "print('z-score: {0:0.4f}'.format(stat))\n",
    "print('p-value: {0:0.4f}'.format(pval))"
   ]
  },
  {
   "cell_type": "markdown",
   "metadata": {},
   "source": [
    "> [Two-proportion z-test](https://sonalake.com/latest/hypothesis-testing-of-proportion-based-samples/) allows to compare two proportions to see whether they are equivalent. Previous null ($H_0$) and alternative ($H_1$) hypotheses apply to the current z-test. Z-score (also called a standard score) gives an idea of how far from the mean a data point is. As we can see, the p-value based on the _statsmodels_ library is very close to the p-value we calculated before. As mentioned earlier, p-value is a probabilty that we falsely reject the null hypothesis. <br>\n",
    "According to the result for proportions_ztest based on z-test, the p-value is larger than the threshold of Type 1 error rate of 5%. Thus, the null hypothesis can not be rejected. In other words, we do not have enough evidence to reject the statement that the conversion rate for the old page is better than or equal to the convert rate for the new page. This result is consistent with the previous findings in part 7. "
   ]
  },
  {
   "cell_type": "markdown",
   "metadata": {},
   "source": [
    "<a id='regression'></a>\n",
    "### Part III - Regression Approach\n",
    "\n",
    "> `1.` In the final part of analysis, I will show that the result acheived in the previous A/B test can also be acheived by performing regression. Since the column _'converted'_ is used as the response variable and each datapoint is either a conversion or no conversion, this analysis should be performed with \"[Logistic Regression](https://www.statsmodels.org/stable/generated/statsmodels.discrete.discrete_model.Logit.html)\" type of regression. <br><br>\n",
    "> The goal is to use **statsmodels** to fit the regression model to see if there is a significant difference in conversion based on which page a customer receives.  To do so, we firstly need to create a column for the intercept, and create a dummy variable column for which page each user received.\n"
   ]
  },
  {
   "cell_type": "code",
   "execution_count": 41,
   "metadata": {},
   "outputs": [
    {
     "data": {
      "text/html": [
       "<div>\n",
       "<style scoped>\n",
       "    .dataframe tbody tr th:only-of-type {\n",
       "        vertical-align: middle;\n",
       "    }\n",
       "\n",
       "    .dataframe tbody tr th {\n",
       "        vertical-align: top;\n",
       "    }\n",
       "\n",
       "    .dataframe thead th {\n",
       "        text-align: right;\n",
       "    }\n",
       "</style>\n",
       "<table border=\"1\" class=\"dataframe\">\n",
       "  <thead>\n",
       "    <tr style=\"text-align: right;\">\n",
       "      <th></th>\n",
       "      <th>user_id</th>\n",
       "      <th>timestamp</th>\n",
       "      <th>group</th>\n",
       "      <th>landing_page</th>\n",
       "      <th>converted</th>\n",
       "    </tr>\n",
       "  </thead>\n",
       "  <tbody>\n",
       "    <tr>\n",
       "      <th>0</th>\n",
       "      <td>851104</td>\n",
       "      <td>2017-01-21 22:11:48.556739</td>\n",
       "      <td>control</td>\n",
       "      <td>old_page</td>\n",
       "      <td>0</td>\n",
       "    </tr>\n",
       "    <tr>\n",
       "      <th>1</th>\n",
       "      <td>804228</td>\n",
       "      <td>2017-01-12 08:01:45.159739</td>\n",
       "      <td>control</td>\n",
       "      <td>old_page</td>\n",
       "      <td>0</td>\n",
       "    </tr>\n",
       "    <tr>\n",
       "      <th>2</th>\n",
       "      <td>661590</td>\n",
       "      <td>2017-01-11 16:55:06.154213</td>\n",
       "      <td>treatment</td>\n",
       "      <td>new_page</td>\n",
       "      <td>0</td>\n",
       "    </tr>\n",
       "    <tr>\n",
       "      <th>3</th>\n",
       "      <td>853541</td>\n",
       "      <td>2017-01-08 18:28:03.143765</td>\n",
       "      <td>treatment</td>\n",
       "      <td>new_page</td>\n",
       "      <td>0</td>\n",
       "    </tr>\n",
       "    <tr>\n",
       "      <th>4</th>\n",
       "      <td>864975</td>\n",
       "      <td>2017-01-21 01:52:26.210827</td>\n",
       "      <td>control</td>\n",
       "      <td>old_page</td>\n",
       "      <td>1</td>\n",
       "    </tr>\n",
       "  </tbody>\n",
       "</table>\n",
       "</div>"
      ],
      "text/plain": [
       "  user_id                  timestamp      group landing_page  converted\n",
       "0  851104 2017-01-21 22:11:48.556739    control     old_page          0\n",
       "1  804228 2017-01-12 08:01:45.159739    control     old_page          0\n",
       "2  661590 2017-01-11 16:55:06.154213  treatment     new_page          0\n",
       "3  853541 2017-01-08 18:28:03.143765  treatment     new_page          0\n",
       "4  864975 2017-01-21 01:52:26.210827    control     old_page          1"
      ]
     },
     "execution_count": 41,
     "metadata": {},
     "output_type": "execute_result"
    }
   ],
   "source": [
    "ab_mod.head()"
   ]
  },
  {
   "cell_type": "code",
   "execution_count": 42,
   "metadata": {},
   "outputs": [],
   "source": [
    "# Add an \"intercept\" column.\n",
    "ab_mod['intercept'] =1 \n",
    "# Create an \"ab_page\" column, which is 1 when an individual belongs to the \"treatment\" and 0 when \"control\".\n",
    "ab_mod[['control', 'treatment']] = pd.get_dummies(ab_mod['group']) \n",
    "ab_mod.rename(columns={\"treatment\": \"ab_page\"},inplace =True)\n",
    "ab_mod.drop('control',axis = 1, inplace =True)"
   ]
  },
  {
   "cell_type": "code",
   "execution_count": 43,
   "metadata": {
    "scrolled": true
   },
   "outputs": [
    {
     "data": {
      "text/html": [
       "<div>\n",
       "<style scoped>\n",
       "    .dataframe tbody tr th:only-of-type {\n",
       "        vertical-align: middle;\n",
       "    }\n",
       "\n",
       "    .dataframe tbody tr th {\n",
       "        vertical-align: top;\n",
       "    }\n",
       "\n",
       "    .dataframe thead th {\n",
       "        text-align: right;\n",
       "    }\n",
       "</style>\n",
       "<table border=\"1\" class=\"dataframe\">\n",
       "  <thead>\n",
       "    <tr style=\"text-align: right;\">\n",
       "      <th></th>\n",
       "      <th>user_id</th>\n",
       "      <th>timestamp</th>\n",
       "      <th>group</th>\n",
       "      <th>landing_page</th>\n",
       "      <th>converted</th>\n",
       "      <th>intercept</th>\n",
       "      <th>ab_page</th>\n",
       "    </tr>\n",
       "  </thead>\n",
       "  <tbody>\n",
       "    <tr>\n",
       "      <th>0</th>\n",
       "      <td>851104</td>\n",
       "      <td>2017-01-21 22:11:48.556739</td>\n",
       "      <td>control</td>\n",
       "      <td>old_page</td>\n",
       "      <td>0</td>\n",
       "      <td>1</td>\n",
       "      <td>0</td>\n",
       "    </tr>\n",
       "    <tr>\n",
       "      <th>1</th>\n",
       "      <td>804228</td>\n",
       "      <td>2017-01-12 08:01:45.159739</td>\n",
       "      <td>control</td>\n",
       "      <td>old_page</td>\n",
       "      <td>0</td>\n",
       "      <td>1</td>\n",
       "      <td>0</td>\n",
       "    </tr>\n",
       "    <tr>\n",
       "      <th>2</th>\n",
       "      <td>661590</td>\n",
       "      <td>2017-01-11 16:55:06.154213</td>\n",
       "      <td>treatment</td>\n",
       "      <td>new_page</td>\n",
       "      <td>0</td>\n",
       "      <td>1</td>\n",
       "      <td>1</td>\n",
       "    </tr>\n",
       "    <tr>\n",
       "      <th>3</th>\n",
       "      <td>853541</td>\n",
       "      <td>2017-01-08 18:28:03.143765</td>\n",
       "      <td>treatment</td>\n",
       "      <td>new_page</td>\n",
       "      <td>0</td>\n",
       "      <td>1</td>\n",
       "      <td>1</td>\n",
       "    </tr>\n",
       "    <tr>\n",
       "      <th>4</th>\n",
       "      <td>864975</td>\n",
       "      <td>2017-01-21 01:52:26.210827</td>\n",
       "      <td>control</td>\n",
       "      <td>old_page</td>\n",
       "      <td>1</td>\n",
       "      <td>1</td>\n",
       "      <td>0</td>\n",
       "    </tr>\n",
       "  </tbody>\n",
       "</table>\n",
       "</div>"
      ],
      "text/plain": [
       "  user_id                  timestamp      group landing_page  converted  \\\n",
       "0  851104 2017-01-21 22:11:48.556739    control     old_page          0   \n",
       "1  804228 2017-01-12 08:01:45.159739    control     old_page          0   \n",
       "2  661590 2017-01-11 16:55:06.154213  treatment     new_page          0   \n",
       "3  853541 2017-01-08 18:28:03.143765  treatment     new_page          0   \n",
       "4  864975 2017-01-21 01:52:26.210827    control     old_page          1   \n",
       "\n",
       "   intercept  ab_page  \n",
       "0          1        0  \n",
       "1          1        0  \n",
       "2          1        1  \n",
       "3          1        1  \n",
       "4          1        0  "
      ]
     },
     "execution_count": 43,
     "metadata": {},
     "output_type": "execute_result"
    }
   ],
   "source": [
    "# Check whether the changes are correct.\n",
    "ab_mod.head() "
   ]
  },
  {
   "cell_type": "markdown",
   "metadata": {},
   "source": [
    "> After importing **statsmodels** library, I fit the model using the two columns: 'intercept', 'ab_page', to predict whether or not an individual converts. The regression summary is provided below. "
   ]
  },
  {
   "cell_type": "code",
   "execution_count": 44,
   "metadata": {},
   "outputs": [
    {
     "name": "stdout",
     "output_type": "stream",
     "text": [
      "Optimization terminated successfully.\n",
      "         Current function value: 0.366118\n",
      "         Iterations 6\n"
     ]
    },
    {
     "data": {
      "text/html": [
       "<table class=\"simpletable\">\n",
       "<tr>\n",
       "        <td>Model:</td>              <td>Logit</td>      <td>Pseudo R-squared:</td>    <td>0.000</td>   \n",
       "</tr>\n",
       "<tr>\n",
       "  <td>Dependent Variable:</td>     <td>converted</td>          <td>AIC:</td>        <td>212780.3502</td>\n",
       "</tr>\n",
       "<tr>\n",
       "         <td>Date:</td>        <td>2020-09-28 22:51</td>       <td>BIC:</td>        <td>212801.5095</td>\n",
       "</tr>\n",
       "<tr>\n",
       "   <td>No. Observations:</td>       <td>290584</td>       <td>Log-Likelihood:</td>  <td>-1.0639e+05</td>\n",
       "</tr>\n",
       "<tr>\n",
       "       <td>Df Model:</td>              <td>1</td>            <td>LL-Null:</td>      <td>-1.0639e+05</td>\n",
       "</tr>\n",
       "<tr>\n",
       "     <td>Df Residuals:</td>         <td>290582</td>        <td>LLR p-value:</td>      <td>0.18988</td>  \n",
       "</tr>\n",
       "<tr>\n",
       "      <td>Converged:</td>           <td>1.0000</td>           <td>Scale:</td>         <td>1.0000</td>   \n",
       "</tr>\n",
       "<tr>\n",
       "    <td>No. Iterations:</td>        <td>6.0000</td>              <td></td>               <td></td>      \n",
       "</tr>\n",
       "</table>\n",
       "<table class=\"simpletable\">\n",
       "<tr>\n",
       "      <td></td>       <th>Coef.</th>  <th>Std.Err.</th>     <th>z</th>      <th>P>|z|</th> <th>[0.025</th>  <th>0.975]</th> \n",
       "</tr>\n",
       "<tr>\n",
       "  <th>intercept</th> <td>-1.9888</td>  <td>0.0081</td>  <td>-246.6690</td> <td>0.0000</td> <td>-2.0046</td> <td>-1.9730</td>\n",
       "</tr>\n",
       "<tr>\n",
       "  <th>ab_page</th>   <td>-0.0150</td>  <td>0.0114</td>   <td>-1.3109</td>  <td>0.1899</td> <td>-0.0374</td> <td>0.0074</td> \n",
       "</tr>\n",
       "</table>"
      ],
      "text/plain": [
       "<class 'statsmodels.iolib.summary2.Summary'>\n",
       "\"\"\"\n",
       "                          Results: Logit\n",
       "==================================================================\n",
       "Model:              Logit            Pseudo R-squared: 0.000      \n",
       "Dependent Variable: converted        AIC:              212780.3502\n",
       "Date:               2020-09-28 22:51 BIC:              212801.5095\n",
       "No. Observations:   290584           Log-Likelihood:   -1.0639e+05\n",
       "Df Model:           1                LL-Null:          -1.0639e+05\n",
       "Df Residuals:       290582           LLR p-value:      0.18988    \n",
       "Converged:          1.0000           Scale:            1.0000     \n",
       "No. Iterations:     6.0000                                        \n",
       "-------------------------------------------------------------------\n",
       "              Coef.   Std.Err.      z      P>|z|    [0.025   0.975]\n",
       "-------------------------------------------------------------------\n",
       "intercept    -1.9888    0.0081  -246.6690  0.0000  -2.0046  -1.9730\n",
       "ab_page      -0.0150    0.0114    -1.3109  0.1899  -0.0374   0.0074\n",
       "==================================================================\n",
       "\n",
       "\"\"\""
      ]
     },
     "execution_count": 44,
     "metadata": {},
     "output_type": "execute_result"
    }
   ],
   "source": [
    "import statsmodels.api as sm\n",
    "y = ab_mod['converted']\n",
    "X = ab_mod[['intercept', 'ab_page']]\n",
    "logit_reg = sm.Logit(y, X)\n",
    "results = logit_reg.fit()\n",
    "results.summary2()"
   ]
  },
  {
   "cell_type": "code",
   "execution_count": 45,
   "metadata": {
    "scrolled": true
   },
   "outputs": [
    {
     "data": {
      "text/plain": [
       "1.015113064615719"
      ]
     },
     "execution_count": 45,
     "metadata": {},
     "output_type": "execute_result"
    }
   ],
   "source": [
    "# Interprete the negative coefficient in Logistic regression.\n",
    "1/np.exp(-0.0150)"
   ]
  },
  {
   "cell_type": "markdown",
   "metadata": {},
   "source": [
    "> In logistic regression, the coefficient should be exponentiated for the interpretation. Also when the coefficient is negative, it is often beneficial to get the reciprocal. The coefficient of 'ab_page' variable is -0.0150. This can be interpreted that the treatment group is 1.0151 times **less** likely to convert a user than the control group, holding all else in the model constant. Note that the p-value associated with **ab_page** differ from the value you found in **Part II**. <br><br>\n",
    "In regression anaylsis, the p-value for each regression coefficient, tests the null hypothesis that the each predictor has no association with the response variable (i.e. $H_0$ : each regression coefficient is equal to zero.). Therefore, if an independent variable is not statistically associated with the dependent variable, the confidence interval of the coefficient includes zero. On the other hand, the alternative hypothesis in regression is that there is a correlation between the changes in the response variable and the changes in the predictors ($H_1$ : The parameter of each variable is **not** equal to 0). In other words, if $H_0$ is rejected, this indicates that there is enough evidence that there is association  at the population level. [Reference](https://statisticsbyjim.com/regression/interpret-coefficients-p-values-regression/)\n",
    "\n",
    "> In the current regression result, the p-value of **ab_page** is 0.1899. Since it is larger than the significance level (0.05), we can not reject the null hypothesis that the regression coeffcient of **ab_page** is equal to zero. In other words, the sample data does not give us sufficient evidence to reject the null hypothesis for the entire population. <br> <br> \n",
    "In the previous A/B test, the null and alternative hypotheses are described using inequality. The null hypothesis ($H_0$) was that the convert rate of control group is _better than, or equal to_ that of the treatment group. The alternative hypothesis ($H_1$)  was, the conversion rate for the new page is _higher than_ that of the old page. Thus, we performed the one-tailed test of computing the statistical significance of a parameter. On the other hand, in regression analysis, we make the null hypothesis with the statement _\"equal to\"_ or _\"not equal to\"_ zero. We basically perform  a two-tailed test for the p-value in regression analysis."
   ]
  },
  {
   "cell_type": "markdown",
   "metadata": {},
   "source": [
    "> `2.` Now, I consider other factors that might influence on individual conversion. Considering another factor to add into the regression model has not only advantages and also disadvantages. <br><br>\n",
    "One advantage by including additional predictors to the regression equation is that it allows us to explain all of the potential factors that might effect on the dependent variable. Therefore, this may lead to a more accurate understanding of the relation of each predictor with the outcome. [Reference](https://onlinelibrary.wiley.com/doi/pdf/10.1197/j.aem.2003.09.006#:~:text=Multiple%20linear%20regression%20allows%20the,individual%20factor%20with%20the%20outcome.) However, there are also several concerns to keep in mind when we adding additional terms into a regression model. For instance, the new variables should have a linear relationship with the dependent variable. Otherwise, we should consider higher order terms (such as interaction, quadratic, or cubic terms). <br><br>Also, we should look at the correlations between the explantory variables. This is called a multicollinearity. It leads to misunderstanding of the relationships between the predictors and outcome. The multicollinearity can be detected by plotting scatterplots between predictors, or by calculating correlation coefficients (r). A VIFs test is one of the most common ways to find out whether two variables are strongly correlated. As a rule of thumb, if the VIF value for explanatory variables is larger than 10, there is a multicollinearity between the variables. We can fix the issue by removing the least important variable. <br><br>\n",
    "Along with testing if the conversion rate changes for different pages, also add an effect based on which country a user lives. The **countries.csv** dataset is provided and it is merged with the previous dataset."
   ]
  },
  {
   "cell_type": "code",
   "execution_count": 46,
   "metadata": {},
   "outputs": [],
   "source": [
    "# Read the \"countries.csv\" dataset and change the datatype of user_id to string. \n",
    "countries_df = pd.read_csv('countries.csv') \n",
    "countries_df['user_id']=countries_df['user_id'].astype(str)\n",
    "# Join countries_df with ab_mod.\n",
    "df_new = countries_df.set_index('user_id').join(ab_mod.set_index('user_id'), how='inner')"
   ]
  },
  {
   "cell_type": "code",
   "execution_count": 47,
   "metadata": {},
   "outputs": [
    {
     "data": {
      "text/html": [
       "<div>\n",
       "<style scoped>\n",
       "    .dataframe tbody tr th:only-of-type {\n",
       "        vertical-align: middle;\n",
       "    }\n",
       "\n",
       "    .dataframe tbody tr th {\n",
       "        vertical-align: top;\n",
       "    }\n",
       "\n",
       "    .dataframe thead th {\n",
       "        text-align: right;\n",
       "    }\n",
       "</style>\n",
       "<table border=\"1\" class=\"dataframe\">\n",
       "  <thead>\n",
       "    <tr style=\"text-align: right;\">\n",
       "      <th></th>\n",
       "      <th>country</th>\n",
       "      <th>timestamp</th>\n",
       "      <th>group</th>\n",
       "      <th>landing_page</th>\n",
       "      <th>converted</th>\n",
       "      <th>intercept</th>\n",
       "      <th>ab_page</th>\n",
       "    </tr>\n",
       "    <tr>\n",
       "      <th>user_id</th>\n",
       "      <th></th>\n",
       "      <th></th>\n",
       "      <th></th>\n",
       "      <th></th>\n",
       "      <th></th>\n",
       "      <th></th>\n",
       "      <th></th>\n",
       "    </tr>\n",
       "  </thead>\n",
       "  <tbody>\n",
       "    <tr>\n",
       "      <th>834778</th>\n",
       "      <td>UK</td>\n",
       "      <td>2017-01-14 23:08:43.304998</td>\n",
       "      <td>control</td>\n",
       "      <td>old_page</td>\n",
       "      <td>0</td>\n",
       "      <td>1</td>\n",
       "      <td>0</td>\n",
       "    </tr>\n",
       "    <tr>\n",
       "      <th>928468</th>\n",
       "      <td>US</td>\n",
       "      <td>2017-01-23 14:44:16.387854</td>\n",
       "      <td>treatment</td>\n",
       "      <td>new_page</td>\n",
       "      <td>0</td>\n",
       "      <td>1</td>\n",
       "      <td>1</td>\n",
       "    </tr>\n",
       "    <tr>\n",
       "      <th>822059</th>\n",
       "      <td>UK</td>\n",
       "      <td>2017-01-16 14:04:14.719771</td>\n",
       "      <td>treatment</td>\n",
       "      <td>new_page</td>\n",
       "      <td>1</td>\n",
       "      <td>1</td>\n",
       "      <td>1</td>\n",
       "    </tr>\n",
       "    <tr>\n",
       "      <th>711597</th>\n",
       "      <td>UK</td>\n",
       "      <td>2017-01-22 03:14:24.763511</td>\n",
       "      <td>control</td>\n",
       "      <td>old_page</td>\n",
       "      <td>0</td>\n",
       "      <td>1</td>\n",
       "      <td>0</td>\n",
       "    </tr>\n",
       "    <tr>\n",
       "      <th>710616</th>\n",
       "      <td>UK</td>\n",
       "      <td>2017-01-16 13:14:44.000513</td>\n",
       "      <td>treatment</td>\n",
       "      <td>new_page</td>\n",
       "      <td>0</td>\n",
       "      <td>1</td>\n",
       "      <td>1</td>\n",
       "    </tr>\n",
       "  </tbody>\n",
       "</table>\n",
       "</div>"
      ],
      "text/plain": [
       "        country                  timestamp      group landing_page  converted  \\\n",
       "user_id                                                                         \n",
       "834778       UK 2017-01-14 23:08:43.304998    control     old_page          0   \n",
       "928468       US 2017-01-23 14:44:16.387854  treatment     new_page          0   \n",
       "822059       UK 2017-01-16 14:04:14.719771  treatment     new_page          1   \n",
       "711597       UK 2017-01-22 03:14:24.763511    control     old_page          0   \n",
       "710616       UK 2017-01-16 13:14:44.000513  treatment     new_page          0   \n",
       "\n",
       "         intercept  ab_page  \n",
       "user_id                      \n",
       "834778           1        0  \n",
       "928468           1        1  \n",
       "822059           1        1  \n",
       "711597           1        0  \n",
       "710616           1        1  "
      ]
     },
     "execution_count": 47,
     "metadata": {},
     "output_type": "execute_result"
    }
   ],
   "source": [
    "df_new.head()"
   ]
  },
  {
   "cell_type": "code",
   "execution_count": 48,
   "metadata": {},
   "outputs": [
    {
     "data": {
      "text/plain": [
       "US    203619\n",
       "UK     72466\n",
       "CA     14499\n",
       "Name: country, dtype: int64"
      ]
     },
     "execution_count": 48,
     "metadata": {},
     "output_type": "execute_result"
    }
   ],
   "source": [
    "# Check the number of users who belong to each country. \n",
    "df_new['country'].value_counts()"
   ]
  },
  {
   "cell_type": "code",
   "execution_count": 49,
   "metadata": {},
   "outputs": [
    {
     "data": {
      "text/plain": [
       "country  landing_page\n",
       "CA       new_page        0.503552\n",
       "         old_page        0.496448\n",
       "UK       new_page        0.498247\n",
       "         old_page        0.501753\n",
       "US       new_page        0.500459\n",
       "         old_page        0.499541\n",
       "Name: intercept, dtype: float64"
      ]
     },
     "execution_count": 49,
     "metadata": {},
     "output_type": "execute_result"
    }
   ],
   "source": [
    "# Compare the proportion of users belong to the control and treatment groups in each country. \n",
    "df_new.groupby(['country', 'landing_page'])['intercept'].count() / df_new.groupby(['country'])['intercept'].count()"
   ]
  },
  {
   "cell_type": "code",
   "execution_count": 50,
   "metadata": {},
   "outputs": [
    {
     "data": {
      "text/plain": [
       "country  landing_page\n",
       "CA       new_page        0.111902\n",
       "         old_page        0.118783\n",
       "UK       new_page        0.121171\n",
       "         old_page        0.120022\n",
       "US       new_page        0.118466\n",
       "         old_page        0.120630\n",
       "Name: converted, dtype: float64"
      ]
     },
     "execution_count": 50,
     "metadata": {},
     "output_type": "execute_result"
    }
   ],
   "source": [
    "# Compare the conversion rate for each group in each country. \n",
    "df_new.groupby(['country', 'landing_page'])['converted'].mean()"
   ]
  },
  {
   "cell_type": "code",
   "execution_count": 51,
   "metadata": {},
   "outputs": [],
   "source": [
    "# Create the dummy variables for the country column\n",
    "df_new[['CA', 'UK', 'US']] = pd.get_dummies(df_new['country'])"
   ]
  },
  {
   "cell_type": "code",
   "execution_count": 52,
   "metadata": {},
   "outputs": [
    {
     "name": "stdout",
     "output_type": "stream",
     "text": [
      "Optimization terminated successfully.\n",
      "         Current function value: 0.366113\n",
      "         Iterations 6\n"
     ]
    },
    {
     "data": {
      "text/html": [
       "<table class=\"simpletable\">\n",
       "<tr>\n",
       "        <td>Model:</td>              <td>Logit</td>      <td>Pseudo R-squared:</td>    <td>0.000</td>   \n",
       "</tr>\n",
       "<tr>\n",
       "  <td>Dependent Variable:</td>     <td>converted</td>          <td>AIC:</td>        <td>212781.1253</td>\n",
       "</tr>\n",
       "<tr>\n",
       "         <td>Date:</td>        <td>2020-09-28 22:51</td>       <td>BIC:</td>        <td>212823.4439</td>\n",
       "</tr>\n",
       "<tr>\n",
       "   <td>No. Observations:</td>       <td>290584</td>       <td>Log-Likelihood:</td>  <td>-1.0639e+05</td>\n",
       "</tr>\n",
       "<tr>\n",
       "       <td>Df Model:</td>              <td>3</td>            <td>LL-Null:</td>      <td>-1.0639e+05</td>\n",
       "</tr>\n",
       "<tr>\n",
       "     <td>Df Residuals:</td>         <td>290580</td>        <td>LLR p-value:</td>      <td>0.17599</td>  \n",
       "</tr>\n",
       "<tr>\n",
       "      <td>Converged:</td>           <td>1.0000</td>           <td>Scale:</td>         <td>1.0000</td>   \n",
       "</tr>\n",
       "<tr>\n",
       "    <td>No. Iterations:</td>        <td>6.0000</td>              <td></td>               <td></td>      \n",
       "</tr>\n",
       "</table>\n",
       "<table class=\"simpletable\">\n",
       "<tr>\n",
       "      <td></td>       <th>Coef.</th>  <th>Std.Err.</th>     <th>z</th>      <th>P>|z|</th> <th>[0.025</th>  <th>0.975]</th> \n",
       "</tr>\n",
       "<tr>\n",
       "  <th>intercept</th> <td>-1.9893</td>  <td>0.0089</td>  <td>-223.7628</td> <td>0.0000</td> <td>-2.0067</td> <td>-1.9718</td>\n",
       "</tr>\n",
       "<tr>\n",
       "  <th>ab_page</th>   <td>-0.0149</td>  <td>0.0114</td>   <td>-1.3069</td>  <td>0.1912</td> <td>-0.0374</td> <td>0.0075</td> \n",
       "</tr>\n",
       "<tr>\n",
       "  <th>CA</th>        <td>-0.0408</td>  <td>0.0269</td>   <td>-1.5161</td>  <td>0.1295</td> <td>-0.0934</td> <td>0.0119</td> \n",
       "</tr>\n",
       "<tr>\n",
       "  <th>UK</th>        <td>0.0099</td>   <td>0.0133</td>   <td>0.7433</td>   <td>0.4573</td> <td>-0.0162</td> <td>0.0359</td> \n",
       "</tr>\n",
       "</table>"
      ],
      "text/plain": [
       "<class 'statsmodels.iolib.summary2.Summary'>\n",
       "\"\"\"\n",
       "                          Results: Logit\n",
       "==================================================================\n",
       "Model:              Logit            Pseudo R-squared: 0.000      \n",
       "Dependent Variable: converted        AIC:              212781.1253\n",
       "Date:               2020-09-28 22:51 BIC:              212823.4439\n",
       "No. Observations:   290584           Log-Likelihood:   -1.0639e+05\n",
       "Df Model:           3                LL-Null:          -1.0639e+05\n",
       "Df Residuals:       290580           LLR p-value:      0.17599    \n",
       "Converged:          1.0000           Scale:            1.0000     \n",
       "No. Iterations:     6.0000                                        \n",
       "-------------------------------------------------------------------\n",
       "              Coef.   Std.Err.      z      P>|z|    [0.025   0.975]\n",
       "-------------------------------------------------------------------\n",
       "intercept    -1.9893    0.0089  -223.7628  0.0000  -2.0067  -1.9718\n",
       "ab_page      -0.0149    0.0114    -1.3069  0.1912  -0.0374   0.0075\n",
       "CA           -0.0408    0.0269    -1.5161  0.1295  -0.0934   0.0119\n",
       "UK            0.0099    0.0133     0.7433  0.4573  -0.0162   0.0359\n",
       "==================================================================\n",
       "\n",
       "\"\"\""
      ]
     },
     "execution_count": 52,
     "metadata": {},
     "output_type": "execute_result"
    }
   ],
   "source": [
    "# Fit the model \n",
    "y_new = df_new['converted']\n",
    "X_new = df_new[['intercept', 'ab_page', 'CA', 'UK']] # US is chosen as a baseline.\n",
    "logit_reg_new = sm.Logit(y_new, X_new)\n",
    "results_new = logit_reg_new.fit()\n",
    "results_new.summary2()"
   ]
  },
  {
   "cell_type": "code",
   "execution_count": 53,
   "metadata": {
    "scrolled": true
   },
   "outputs": [
    {
     "data": {
      "text/plain": [
       "(1.0150115583846535, 1.0416437559600236, 1.0099491671175422)"
      ]
     },
     "execution_count": 53,
     "metadata": {},
     "output_type": "execute_result"
    }
   ],
   "source": [
    "# Interprete the coefficients in regression summary\n",
    "1/np.exp(-0.0149), 1/np.exp(-0.0408) , np.exp(0.0099)"
   ]
  },
  {
   "cell_type": "code",
   "execution_count": 54,
   "metadata": {},
   "outputs": [],
   "source": [
    "# Check Multicollinearity between predictors.\n",
    "from statsmodels.stats.outliers_influence import variance_inflation_factor\n",
    "vif = pd.DataFrame()\n",
    "X=df_new[['ab_page', 'CA','UK']]\n",
    "vif[\"VIF Factor\"] = [variance_inflation_factor(X.values, i) for i in range(X.shape[1])]\n",
    "vif[\"features\"] = X.columns"
   ]
  },
  {
   "cell_type": "code",
   "execution_count": 55,
   "metadata": {},
   "outputs": [
    {
     "data": {
      "text/html": [
       "<div>\n",
       "<style scoped>\n",
       "    .dataframe tbody tr th:only-of-type {\n",
       "        vertical-align: middle;\n",
       "    }\n",
       "\n",
       "    .dataframe tbody tr th {\n",
       "        vertical-align: top;\n",
       "    }\n",
       "\n",
       "    .dataframe thead th {\n",
       "        text-align: right;\n",
       "    }\n",
       "</style>\n",
       "<table border=\"1\" class=\"dataframe\">\n",
       "  <thead>\n",
       "    <tr style=\"text-align: right;\">\n",
       "      <th></th>\n",
       "      <th>VIF Factor</th>\n",
       "      <th>features</th>\n",
       "    </tr>\n",
       "  </thead>\n",
       "  <tbody>\n",
       "    <tr>\n",
       "      <th>0</th>\n",
       "      <td>0.0</td>\n",
       "      <td>ab_page</td>\n",
       "    </tr>\n",
       "    <tr>\n",
       "      <th>1</th>\n",
       "      <td>0.0</td>\n",
       "      <td>CA</td>\n",
       "    </tr>\n",
       "    <tr>\n",
       "      <th>2</th>\n",
       "      <td>0.0</td>\n",
       "      <td>UK</td>\n",
       "    </tr>\n",
       "  </tbody>\n",
       "</table>\n",
       "</div>"
      ],
      "text/plain": [
       "   VIF Factor features\n",
       "0         0.0  ab_page\n",
       "1         0.0       CA\n",
       "2         0.0       UK"
      ]
     },
     "execution_count": 55,
     "metadata": {},
     "output_type": "execute_result"
    }
   ],
   "source": [
    "vif.round(1)"
   ]
  },
  {
   "cell_type": "markdown",
   "metadata": {},
   "source": [
    "> The regression results can be interpreted as follows: \n",
    "- Comparing to the users in US, the convert rate of users in CA is 1.0416 times as **less** likely holding all else constant. \n",
    "- Comparing to the users in US, the convert rate of users in UK is 1.0995 times as **more** likely holding all else constant.  \n",
    "- However, according to the p-values related to each coefficient, the coefficients are not statistically significant. In other words, we do not have enough evidence that the explanatory variables are associated with the response variable. "
   ]
  },
  {
   "cell_type": "markdown",
   "metadata": {},
   "source": [
    "<a id='conclusion'></a>\n",
    "## Conclusion\n",
    "\n",
    "> This analysis focuses mainly on the business decision, whether an e-commerce company should implement the new page design in its website to increase conversion rate. The users are randomly assigned to either control or treatment group. The users in both groups show very similar patterns of visiting the company's web page. The only difference between the 2 groups is the type of landing page. Old, new page design is assigned to the users in control, treatment group, respectively. The experiment is run for 23 days. This analysis investigated the influence of new webpage through probability comparison, A/B test and regression approach. <br><br>\n",
    "   1. **Probability Comparison** \n",
    "   First, I simply compared the conversion rate between the two groups. Regardless of landing pages, the overall conversion rate is 0.1196. The proportion of converted users in control group, in treatment group is 0.1204, 0.1188, respectively. Apparently, the convert rate for control group is slightly higher than the other group users. However, since such a small difference could be occured due to sampling errors, I conducted an addtional test: A/B Test. <br><br>\n",
    "   2. **A/B Test**\n",
    "   Second, the result of A/B Test support the previous finding. I started with the idea that the convert rate for old page group is better or at least equal to that for new page group($H_0$). However the p-value from 2 sample proportion-based z-test indicates that we do not have sufficient evidence to reject the null hypothesis. This finding correponds to the results from regression analysis. <br><br>\n",
    "   3. **Regresion Analysis**\n",
    "   Finally, the regression results show that the exponentiated coefficients are very close to one. Moreover none of the coefficients are statisticially significant. Based on the regression approach, we fail to reject the idea that the convert rate for old page users is better than or equal to the rate for new page users. \n",
    "> Based on the findings, I recommended that the company should keep the old page. "
   ]
  }
 ],
 "metadata": {
  "kernelspec": {
   "display_name": "Python 3",
   "language": "python",
   "name": "python3"
  },
  "language_info": {
   "codemirror_mode": {
    "name": "ipython",
    "version": 3
   },
   "file_extension": ".py",
   "mimetype": "text/x-python",
   "name": "python",
   "nbconvert_exporter": "python",
   "pygments_lexer": "ipython3",
   "version": "3.7.6"
  }
 },
 "nbformat": 4,
 "nbformat_minor": 2
}
